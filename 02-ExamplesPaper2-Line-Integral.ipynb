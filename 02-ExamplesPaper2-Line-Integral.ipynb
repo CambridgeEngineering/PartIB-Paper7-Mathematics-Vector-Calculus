{
 "cells": [
  {
   "cell_type": "markdown",
   "metadata": {
    "collapsed": true
   },
   "source": [
    "# 2P7 - Vector Calculus and PDEs\n",
    "## Examples Paper 2 - Question 12"
   ]
  },
  {
   "cell_type": "markdown",
   "metadata": {
    "collapsed": true
   },
   "source": [
    "We first import some modules that we will need. "
   ]
  },
  {
   "cell_type": "code",
   "execution_count": null,
   "metadata": {},
   "outputs": [],
   "source": [
    "import numpy as np\n",
    "import matplotlib.pyplot as plt\n",
    "from mpl_toolkits.mplot3d import Axes3D\n",
    "from urllib.request import urlopen"
   ]
  },
  {
   "cell_type": "markdown",
   "metadata": {},
   "source": [
    "We now run the \"magic\" command that allows us to have plots in the notebook: \"%matplotlib inline\"\n",
    "Note that this will give a static plot that you cannot interact with (e.g. rotate). You can try \"%matplotlib notebook\", or just \"%matplotlib\" - these work with some Jupyter servers and allow interaction."
   ]
  },
  {
   "cell_type": "code",
   "execution_count": null,
   "metadata": {
    "collapsed": true
   },
   "outputs": [],
   "source": [
    "%matplotlib inline"
   ]
  },
  {
   "cell_type": "markdown",
   "metadata": {
    "collapsed": true
   },
   "source": [
    "**myfield** - returns the vector field (i.e. Force field) at point(s) (x,y,z)\n",
    "\n",
    "*This function will run but needs modifying to add the force from the wind*"
   ]
  },
  {
   "cell_type": "code",
   "execution_count": null,
   "metadata": {
    "collapsed": true
   },
   "outputs": [],
   "source": [
    "def myfield( x, y, z ):\n",
    "    \n",
    "    G = 6.673E-11  # gravitational constant\n",
    "    M = 5.9722E24  # mass of the Earth\n",
    "    m = 100        # mass of the person\n",
    "    R = 6.371E6    # radius of the Earth\n",
    "    \n",
    "    Bx = 0  # change this when force of wind is needed\n",
    "    By = 0  # change this when force of wind is needed\n",
    "    Bz = -(G*M*m)/(R+z)**2\n",
    "           \n",
    "    # to allow for if x,y,z are arrays, but Bx, By or Bz is a constant\n",
    "    if (np.size(Bx) == 1):\n",
    "        Bx = Bx * np.ones( np.size(x) )\n",
    "    if (np.size(By) == 1):\n",
    "        By = By * np.ones( np.size(y) )\n",
    "    if (np.size(Bz) == 1):\n",
    "        Bz = Bz * np.ones( np.size(z) )\n",
    "        \n",
    "    return Bx, By, Bz # Return the field vector components at point, or points, (x,y,z)"
   ]
  },
  {
   "cell_type": "markdown",
   "metadata": {},
   "source": [
    "**Read the route and convert the coordinates into (x,y,z)**\n",
    "\n",
    "*This code is complete*"
   ]
  },
  {
   "cell_type": "code",
   "execution_count": null,
   "metadata": {
    "collapsed": true
   },
   "outputs": [],
   "source": [
    "file=urlopen(\"https://raw.githubusercontent.com/CambridgeEngineering/PartIB-Paper7-Mathematics-Vector-Calculus/master/snowdon_route.txt\")\n",
    "coordinates = np.loadtxt(file)\n",
    "lat = coordinates[:,0] * np.pi / 180 # latitude data is first column\n",
    "lon = coordinates[:,1] * np.pi / 180 # longitude data is second column\n",
    "alt = coordinates[:,2];\n",
    "r = alt + 6.371E6\n",
    "x = r * np.cos(lat) * (lon-lon[0])\n",
    "y = r * (lat-lat[0])\n",
    "z = alt           "
   ]
  },
  {
   "cell_type": "markdown",
   "metadata": {},
   "source": [
    "**Plot the route in 3D**\n",
    "\n",
    "*This code is complete*"
   ]
  },
  {
   "cell_type": "code",
   "execution_count": null,
   "metadata": {
    "collapsed": true,
    "scrolled": true
   },
   "outputs": [],
   "source": [
    "fig, ax = plt.subplots(subplot_kw={'projection': '3d'})\n",
    "ax.plot( x,y,z )\n",
    "plt.show()"
   ]
  },
  {
   "cell_type": "markdown",
   "metadata": {},
   "source": [
    "**Evaluate the integral**\n",
    "\n",
    "*This is not complete - add dx, dy, Iy, Iz and the final output, I*"
   ]
  },
  {
   "cell_type": "code",
   "execution_count": null,
   "metadata": {
    "collapsed": true
   },
   "outputs": [],
   "source": [
    "dx = np.diff(x) # the x component of the line element between x[i] and x[i+1] \n",
    "dy = ...        # the y component\n",
    "dz = ...        # the z compoment\n",
    "[Bx, By, Bz] = myfield( x, y, z ) # the components of the field at all points along the path\n",
    "Ix = np.sum( Bx[0:-1] * dx ) # the x component of the integral\n",
    "Iy = ...\n",
    "Iz = ...\n",
    "I = ...\n",
    "\n",
    "print (\"The total value of the integral is\", I)"
   ]
  }
 ],
 "metadata": {
  "kernelspec": {
   "display_name": "Python 3 (ipykernel)",
   "language": "python",
   "name": "python3"
  },
  "language_info": {
   "codemirror_mode": {
    "name": "ipython",
    "version": 3
   },
   "file_extension": ".py",
   "mimetype": "text/x-python",
   "name": "python",
   "nbconvert_exporter": "python",
   "pygments_lexer": "ipython3",
   "version": "3.11.0"
  }
 },
 "nbformat": 4,
 "nbformat_minor": 2
}
