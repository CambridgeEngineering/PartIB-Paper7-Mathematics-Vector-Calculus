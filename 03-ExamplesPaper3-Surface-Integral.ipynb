{
 "cells": [
  {
   "cell_type": "markdown",
   "metadata": {
    "collapsed": true
   },
   "source": [
    "# 2P7 - Vector Calculus and PDEs\n",
    "## Examples Paper 3 - Question 9"
   ]
  },
  {
   "cell_type": "markdown",
   "metadata": {
    "collapsed": true
   },
   "source": [
    "We first import some modules that we will need. "
   ]
  },
  {
   "cell_type": "code",
   "execution_count": null,
   "metadata": {},
   "outputs": [],
   "source": [
    "import numpy as np\n",
    "import matplotlib.pyplot as plt\n",
    "from matplotlib import path\n",
    "from mpl_toolkits.mplot3d import Axes3D\n",
    "from urllib.request import urlopen"
   ]
  },
  {
   "cell_type": "markdown",
   "metadata": {},
   "source": [
    "We now run the \"magic\" command that allows us to have plots in the notebook: \"%matplotlib inline\"\n",
    "Note that this will give a static plot that you cannot interact with (e.g. rotate). You can try \"%matplotlib notebook\", or just \"%matplotlib\" - these work with some Jupyter servers and allow interaction."
   ]
  },
  {
   "cell_type": "code",
   "execution_count": null,
   "metadata": {},
   "outputs": [],
   "source": [
    "%matplotlib inline"
   ]
  },
  {
   "cell_type": "markdown",
   "metadata": {
    "collapsed": true
   },
   "source": [
    "**myfield** - returns the vector field (i.e. the curl field that we wish to integrate) at points (x,y,z)\n",
    "\n",
    "*This code is **not** complete. You need to add the vector field in Q9(c)*"
   ]
  },
  {
   "cell_type": "code",
   "execution_count": null,
   "metadata": {},
   "outputs": [],
   "source": [
    "def myfield( x, y, z ):\n",
    "    \n",
    "    Bx = -0.1 * x * np.exp(-z)  # The x component of the field \n",
    "    By =   # Add the y component\n",
    "    Bz =   # Add the z component\n",
    "           \n",
    "    # to allow for if x,y,z are arrays, but Bx, By or Bz is a constant\n",
    "    if (np.size(Bx) == 1):\n",
    "        Bx = Bx * np.ones( np.size(x) )\n",
    "    if (np.size(By) == 1):\n",
    "        By = By * np.ones( np.size(y) )\n",
    "    if (np.size(Bz) == 1):\n",
    "        Bz = Bz * np.ones( np.size(z) )\n",
    "        \n",
    "    return Bx, By, Bz # Return the field vector components at point, or points, (x,y,z)"
   ]
  },
  {
   "cell_type": "markdown",
   "metadata": {},
   "source": [
    "**Read the route and convert the coordinates into (x,y,z)**\n",
    "\n",
    "*This code is complete*"
   ]
  },
  {
   "cell_type": "code",
   "execution_count": null,
   "metadata": {},
   "outputs": [],
   "source": [
    "file=urlopen(\"https://raw.githubusercontent.com/CambridgeEngineering/PartIB-Paper7-Mathematics-Vector-Calculus/master/snowdon_route.txt\")\n",
    "coordinates = np.loadtxt(file)\n",
    "lat = coordinates[:,0] * np.pi / 180 # latitude data is first column\n",
    "lon = coordinates[:,1] * np.pi / 180 # longitude data is second column\n",
    "alt = coordinates[:,2];\n",
    "r = alt + 6.371E6\n",
    "\n",
    "# store the coordinates of the path taken in path_x, path_y, path_z\n",
    "path_x = r * np.cos(lat) * (lon-lon[0]) \n",
    "path_y = r * (lat-lat[0])\n",
    "path_z = alt           "
   ]
  },
  {
   "cell_type": "markdown",
   "metadata": {},
   "source": [
    "**Read the surface of the route and convert into (x,y,z)**\n",
    "\n",
    "*This code is complete*"
   ]
  },
  {
   "cell_type": "code",
   "execution_count": null,
   "metadata": {},
   "outputs": [],
   "source": [
    "file=urlopen(\"https://raw.githubusercontent.com/CambridgeEngineering/PartIB-Paper7-Mathematics-Vector-Calculus/master/snowdon_route_surface.txt\")\n",
    "surf_coordinates = np.loadtxt(file)\n",
    "surf_lat = surf_coordinates[:,0] * np.pi / 180 # convert coordinates to lat, lon and alt arrays \n",
    "surf_lon = surf_coordinates[:,1] * np.pi / 180\n",
    "surf_alt = surf_coordinates[:,2] \n",
    "surf_r = surf_alt + 6.371E6\n",
    "\n",
    "# surf_x, surf_y, surf_z are 1D arrays of coordinates of points on the surfaces\n",
    "surf_x = surf_r * np.cos(surf_lat) * ( surf_lon - lon[0] )\n",
    "surf_y = surf_r * ( surf_lat - lat[0] )\n",
    "surf_z = surf_alt\n",
    "\n",
    "# the points in surf_x etc actually form a grid, i.e. a 2D array\n",
    "# use np.reshape to convert 1D arrays to 2D arrays:\n",
    "N = int(np.sqrt( np.shape(surf_lat)[0] ))\n",
    "surf_x_grid = np.reshape( surf_x, (N, N) )\n",
    "surf_y_grid = np.reshape( surf_y, (N, N) )\n",
    "surf_z_grid = np.reshape( surf_z, (N, N) )"
   ]
  },
  {
   "cell_type": "markdown",
   "metadata": {},
   "source": [
    "**Plot the route in 3D**\n",
    "\n",
    "*This code is complete*"
   ]
  },
  {
   "cell_type": "code",
   "execution_count": null,
   "metadata": {
    "scrolled": true
   },
   "outputs": [],
   "source": [
    "fig = plt.figure()\n",
    "ax = fig.gca(projection='3d')\n",
    "ax.plot( path_x, path_y, path_z )\n",
    "ax.plot_surface( surf_x_grid, surf_y_grid, surf_z_grid )\n",
    "plt.show()"
   ]
  },
  {
   "cell_type": "markdown",
   "metadata": {},
   "source": [
    "**Find the surface that is bounded by the path**\n",
    "\n",
    "The surface plotted above contains points that are both inside and outside the loop formed by the path taken.\n",
    "\n",
    "We only want to evaluate our surface integral for the parts of the surface that are inside the path. We can use the `matplotlib path` module to find these points.\n",
    "\n",
    "*This code is complete*"
   ]
  },
  {
   "cell_type": "code",
   "execution_count": null,
   "metadata": {},
   "outputs": [],
   "source": [
    "# First form a 2D array of coordinates of our path taken\n",
    "# i.e. path_points[0] returns both coordinates of the first point of the path\n",
    "path_points = np.stack( (path_x,path_y) , axis=1)\n",
    "\n",
    "# Make a matplotlib path using these points:\n",
    "p = path.Path(path_points)\n",
    "\n",
    "# Similarly, we make a 2D array of our surface coordinates,\n",
    "# i.e. surf_points[0] returns both coordinates of the first point of the surface\n",
    "surf_points=np.stack((surf_x,surf_y),axis=1)\n",
    "\n",
    "# We can now use the matplotlib path \"contains_points\" function to\n",
    "# find which of our surface points are inside the path\n",
    "inside = p.contains_points(surf_points)\n",
    "\n",
    "# inside[i] is True if surf_points[i] is inside the path\n",
    "# we reshape this back into our 2D grid:\n",
    "inside_grid = np.reshape( inside, (N,N) )"
   ]
  },
  {
   "cell_type": "markdown",
   "metadata": {},
   "source": [
    "**As a check, we plot all the surface points that are inside our path**\n",
    "\n",
    "*This code is complete*"
   ]
  },
  {
   "cell_type": "code",
   "execution_count": null,
   "metadata": {},
   "outputs": [],
   "source": [
    "fig = plt.figure()\n",
    "ax = fig.gca(projection='3d')\n",
    "ax.plot( path_x, path_y, path_z )\n",
    "# Since inside_grid is an array with values: True or False,\n",
    "# when matplotlib uses this as an array index, as in surf_x_grid[inside_grid],\n",
    "# only those values of the array where the index is True are returned\n",
    "ax.plot( surf_x_grid[inside_grid], surf_y_grid[inside_grid], surf_z_grid[inside_grid],'.' )\n",
    "plt.show()"
   ]
  },
  {
   "cell_type": "markdown",
   "metadata": {},
   "source": [
    "**Now perform the surface integration**\n",
    "\n",
    "*This code is **not** complete. You need to finish the calculations of* `Iy`, `Iz` *and* `I`"
   ]
  },
  {
   "cell_type": "code",
   "execution_count": null,
   "metadata": {},
   "outputs": [],
   "source": [
    "# First evaluate the surface normal vector (Nx, Ny, Nz)\n",
    "# Recall that dA = cross(dr/dx,dr/dy)dxdy from Databook\n",
    "# where r is the position vector of a point on the surface\n",
    "# dr/dx = [1 0 dz/dx] and dr/dy = [0 1 dz/dy]\n",
    "# Hence dA = [-dz/dx -dz/dy 1]*dx*dy\n",
    "dx = np.gradient( surf_x_grid[0,:] ) # calculate small changes in x\n",
    "dy = np.gradient( surf_y_grid[:,0] ) # calculate small changes in y\n",
    "[ dzdx, dzdy] = np.gradient( surf_z_grid, surf_x_grid[0,:], surf_y_grid[:,0] ) # calculate partial derivatives of z\n",
    "Nx = -dzdx *(dx*dy)\n",
    "Ny = -dzdy *(dx*dy)\n",
    "Nz = 1*np.outer(dx,dy)\n",
    "\n",
    "# Evaluate the vector field at all points on the surface:\n",
    "[Bx, By, Bz] = myfield(surf_x_grid, surf_y_grid, surf_z_grid)\n",
    "\n",
    "# Finally, evaluate the surface integral ONLY for the surface points\n",
    "# that are inside our path\n",
    "Ix = np.sum( Bx[inside_grid] * Nx[inside_grid] )\n",
    "Iy = # Add the y component of the integral\n",
    "Iz = # Add the z component of the integral\n",
    "I = # Evaluate the integral\n",
    "\n",
    "print (\"The result of the surface integral is, \", I)\n",
    "                         "
   ]
  }
 ],
 "metadata": {
  "kernelspec": {
   "display_name": "Python 3",
   "language": "python",
   "name": "python3"
  },
  "language_info": {
   "codemirror_mode": {
    "name": "ipython",
    "version": 3
   },
   "file_extension": ".py",
   "mimetype": "text/x-python",
   "name": "python",
   "nbconvert_exporter": "python",
   "pygments_lexer": "ipython3",
   "version": "3.7.3"
  }
 },
 "nbformat": 4,
 "nbformat_minor": 2
}
