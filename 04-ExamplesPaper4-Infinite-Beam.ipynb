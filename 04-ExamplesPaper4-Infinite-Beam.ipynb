{
 "cells": [
  {
   "cell_type": "markdown",
   "metadata": {
    "collapsed": true
   },
   "source": [
    "# 2P7 - Vector Calculus and PDEs\n",
    "## Examples Paper 4 - Question 7"
   ]
  },
  {
   "cell_type": "markdown",
   "metadata": {
    "collapsed": true
   },
   "source": [
    "We first import some modules that we will need. "
   ]
  },
  {
   "cell_type": "code",
   "execution_count": null,
   "metadata": {
    "collapsed": true
   },
   "outputs": [],
   "source": [
    "import numpy as np\n",
    "import matplotlib.pyplot as plt\n",
    "import scipy.io.wavfile # this module is needed to write out wav audio files\n",
    "from google.colab import files # so we can download the wav file from Colab"
   ]
  },
  {
   "cell_type": "markdown",
   "metadata": {},
   "source": [
    "We now run the \"magic\" command that allows us to have plots in the notebook: \"%matplotlib inline\"\n",
    "Note that this will give a static plot that you cannot interact with (e.g. rotate). You can try \"%matplotlib notebook\", or just \"%matplotlib\" - these work with some Jupyter servers and allow interaction."
   ]
  },
  {
   "cell_type": "code",
   "execution_count": null,
   "metadata": {
    "collapsed": true
   },
   "outputs": [],
   "source": [
    "%matplotlib inline"
   ]
  },
  {
   "cell_type": "markdown",
   "metadata": {
    "collapsed": true
   },
   "source": [
    "Set the beam parameters:\n",
    "\n",
    "*These are complete*"
   ]
  },
  {
   "cell_type": "code",
   "execution_count": null,
   "metadata": {
    "collapsed": true
   },
   "outputs": [],
   "source": [
    "w = 0.05      # width\n",
    "h = 0.1       # thickness\n",
    "A = w*h       # area\n",
    "I = h**3/12   # second moment of area\n",
    "rho = 7840    # density of steel\n",
    "E = 210e9     # Young's modulus of steel"
   ]
  },
  {
   "cell_type": "markdown",
   "metadata": {},
   "source": [
    "Set the computation parameters:\n",
    "\n",
    "*These are complete but it is interesting to change them*"
   ]
  },
  {
   "cell_type": "code",
   "execution_count": null,
   "metadata": {
    "collapsed": true
   },
   "outputs": [],
   "source": [
    "L = 100       # choose distance from input source\n",
    "N = 1000      # choose number of harmonics to compute\n",
    "T = 0.5       # choose time gap between input impulses\n",
    "\n",
    "duration = 3. # set length of time to plot results\n",
    "fs = 44.1e3   # set sampling frequency\n",
    "\n",
    "t = np.linspace(0, duration, int(fs*duration) ) # 1D array of time-axis values"
   ]
  },
  {
   "cell_type": "markdown",
   "metadata": {},
   "source": [
    "Now calculate the reponse of the beam using the formula givein in Part (b)\n",
    "\n",
    "*This code is complete*"
   ]
  },
  {
   "cell_type": "code",
   "execution_count": null,
   "metadata": {
    "collapsed": true
   },
   "outputs": [],
   "source": [
    "y=np.zeros(int(fs*duration)) # initialise the response array, y, to zero\n",
    "# sum over N harmonics to calculate the response:\n",
    "for n in range(1,N):\n",
    "    omega = 2*np.pi*n/T\n",
    "    k = (rho*A*omega**2 / E / I)**(0.25)\n",
    "    y = y + 1/T * np.cos(omega*t - k*L)"
   ]
  },
  {
   "cell_type": "markdown",
   "metadata": {},
   "source": [
    "Add some code to plot the response as a function of time"
   ]
  },
  {
   "cell_type": "code",
   "execution_count": null,
   "metadata": {
    "collapsed": true
   },
   "outputs": [],
   "source": [
    "# Add your code here"
   ]
  },
  {
   "cell_type": "markdown",
   "metadata": {},
   "source": [
    "The code below write out the response array as an audio wav file that you can play."
   ]
  },
  {
   "cell_type": "code",
   "execution_count": null,
   "metadata": {
    "collapsed": true
   },
   "outputs": [],
   "source": [
    "scipy.io.wavfile.write('response.wav',int(fs), y / np.max(np.abs(y))) # the output array is normalised to between -1 and 1\n",
    "files.download('response.wav')  # N.b. this worked on Chrome, did not work on Safari"
   ]
  }
 ],
 "metadata": {
  "kernelspec": {
   "display_name": "Python 3",
   "language": "python",
   "name": "python3"
  },
  "language_info": {
   "codemirror_mode": {
    "name": "ipython",
    "version": 3
   },
   "file_extension": ".py",
   "mimetype": "text/x-python",
   "name": "python",
   "nbconvert_exporter": "python",
   "pygments_lexer": "ipython3",
   "version": "3.7.3"
  }
 },
 "nbformat": 4,
 "nbformat_minor": 2
}
