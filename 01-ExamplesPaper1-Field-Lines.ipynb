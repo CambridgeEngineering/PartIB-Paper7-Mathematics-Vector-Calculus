{
 "cells": [
  {
   "cell_type": "markdown",
   "metadata": {
    "collapsed": true
   },
   "source": [
    "# 2P7 - Vector Calculus and PDEs\n",
    "## Examples Paper 1 - Question 7"
   ]
  },
  {
   "cell_type": "markdown",
   "metadata": {
    "collapsed": true
   },
   "source": [
    "We first import some modules that we will need. You may not be familiar with \"mplot3d\" - this enables us to do a 3D plot."
   ]
  },
  {
   "cell_type": "code",
   "execution_count": null,
   "metadata": {
    "collapsed": true
   },
   "outputs": [],
   "source": [
    "import numpy as np\n",
    "import matplotlib.pyplot as plt\n",
    "from mpl_toolkits.mplot3d import Axes3D"
   ]
  },
  {
   "cell_type": "markdown",
   "metadata": {},
   "source": [
    "We now run the \"magic\" command that allows us to have plots in the notebook: \"%matplotlib inline\"\n",
    "Note that this will give a static plot that you cannot interact with (e.g. rotate). You can try \"%matplotlib notebook\", or just \"%matplotlib\" - these work with some Jupyter servers and browsers and allow interaction."
   ]
  },
  {
   "cell_type": "code",
   "execution_count": null,
   "metadata": {
    "collapsed": true
   },
   "outputs": [],
   "source": [
    "%matplotlib inline"
   ]
  },
  {
   "cell_type": "markdown",
   "metadata": {
    "collapsed": true
   },
   "source": [
    "**myfield** - a function which returns the components of the B vector at the coordinates supplied as arguments.\n",
    "\n",
    "*This function will run but is not complete.* You need to add definitions for the other fields in Q6."
   ]
  },
  {
   "cell_type": "code",
   "execution_count": null,
   "metadata": {
    "collapsed": true
   },
   "outputs": [],
   "source": [
    "def myfield( x, y, z ):\n",
    "    \n",
    "    field_definition = 0 # this is a switch variable for when you have more than one field option\n",
    "    \n",
    "    if field_definition == 0: # this is the field from Q6(i)\n",
    "        Bx = -y\n",
    "        By = x\n",
    "        Bz = 0\n",
    "        \n",
    "    #elif field_definition == 1:   # put your new field here\n",
    "        # Bx = ...\n",
    "        # By = ...\n",
    "        # Bz = ...\n",
    "    \n",
    "    \n",
    "    # to allow for if x,y,z are arrays, but Bx, By or Bz is a constant\n",
    "    if (np.size(Bx) == 1):\n",
    "        Bx = Bx * np.ones( np.size(x) )\n",
    "    if (np.size(By) == 1):\n",
    "        By = By * np.ones( np.size(y) )\n",
    "    if (np.size(Bz) == 1):\n",
    "        Bz = Bz * np.ones( np.size(z) )\n",
    "        \n",
    "    return Bx, By, Bz # Return the field vector components at point (x,y,z)"
   ]
  },
  {
   "cell_type": "markdown",
   "metadata": {
    "collapsed": true
   },
   "source": [
    "**myfieldline** - a function to return arrays of coordinates of a field line. \n",
    "The start coordinates and total length of the field line are arguments.\n",
    "This function calls **myfield**.\n",
    "\n",
    "*This function will not run* until you write code for \n",
    "`Bny`, `Bnz`, `X[i]` and `Y[i]` "
   ]
  },
  {
   "cell_type": "code",
   "execution_count": null,
   "metadata": {
    "collapsed": true
   },
   "outputs": [],
   "source": [
    "def myfieldline( x0, y0, z0, distance ):\n",
    "    \n",
    "    N = 100\n",
    "    ds = float(distance) / N\n",
    "    \n",
    "    X = np.zeros(N)\n",
    "    Y = np.zeros(N)\n",
    "    Z = np.zeros(N)\n",
    "    \n",
    "    X[0] = x0\n",
    "    Y[0] = y0\n",
    "    Z[0] = z0\n",
    "    \n",
    "    for i in range(1,N):\n",
    "        [Bx,By,Bz] = myfield( X[i-1], Y[i-1], Z[i-1] ) # Evaluate the field at the previous point (i-1)\n",
    "        # Normalise the vector:\n",
    "        magnitude = np.sqrt( Bx**2 + By**2 + Bz**2 )\n",
    "        Bnx = Bx / magnitude\n",
    "        Bny = # insert your code\n",
    "        Bnz = # insert your code\n",
    "        # Now evaluate the field line location at the current point (i)\n",
    "        X[i] = X[i-1] + Bnx*ds\n",
    "        Y[i] = # insert your code\n",
    "        Z[i] = # insert your code\n",
    "    \n",
    "    return X, Y, Z # Return the coordinates of the field line"
   ]
  },
  {
   "cell_type": "markdown",
   "metadata": {
    "collapsed": true
   },
   "source": [
    "The main part of our script plots the field lines.\n",
    "\n",
    "*This function will not run* until you add code to generate the field line coordinates for each start point (x0,y0,z0)"
   ]
  },
  {
   "cell_type": "code",
   "execution_count": null,
   "metadata": {
    "collapsed": true
   },
   "outputs": [],
   "source": [
    "x_range = np.linspace(-2,2,4)\n",
    "y_range = np.linspace(-2,2,4)\n",
    "z_range = np.linspace(1,2,2)\n",
    "\n",
    "fig, ax = plt.subplots(subplot_kw={'projection': '3d'})\n",
    "\n",
    "for x0 in x_range:\n",
    "    for y0 in y_range:\n",
    "        for z0 in z_range:\n",
    "            [X,Y,Z] = # add code to generate a field line starting at (x0,y0,z0)\n",
    "            ax.plot(X,Y,Z)\n",
    "            \n",
    "plt.show()\n"
   ]
  }
 ],
 "metadata": {
  "kernelspec": {
   "display_name": "Python 3 (ipykernel)",
   "language": "python",
   "name": "python3"
  },
  "language_info": {
   "codemirror_mode": {
    "name": "ipython",
    "version": 3
   },
   "file_extension": ".py",
   "mimetype": "text/x-python",
   "name": "python",
   "nbconvert_exporter": "python",
   "pygments_lexer": "ipython3",
   "version": "3.11.0"
  }
 },
 "nbformat": 4,
 "nbformat_minor": 2
}
